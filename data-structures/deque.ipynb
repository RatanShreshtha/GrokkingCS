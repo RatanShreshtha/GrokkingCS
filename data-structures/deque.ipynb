{
 "cells": [
  {
   "cell_type": "markdown",
   "metadata": {},
   "source": [
    "# Deque\n",
    "\n",
    "A deque, also known as a double-ended queue, is an ordered collection of items similar to the **queue**. It has two ends, a **front** and a **rear**, and the items remain positioned in the collection. What makes a deque different is the **unrestrictive nature of adding and removing items**. New items can be added at either the front or the rear. Likewise, existing items can be removed from either end. In a sense, this hybrid linear structure provides all the capabilities of stacks and queues in a single data structure.\n",
    "\n",
    "It is important to note that even though the deque can assume many of the characteristics of stacks and queues, it does not require the **LIFO** and **FIFO** orderings that are enforced by those data structures.\n",
    "\n",
    "```{mermaid}\n",
    "flowchart TB;\n",
    "    subgraph id3 [ ]\n",
    "    direction TB\n",
    "        c1(Add to front)\n",
    "        c2(Remove from front)\n",
    "    end\n",
    "\n",
    "    subgraph id2 [Deque]\n",
    "    direction TB\n",
    "        b1(3.14)\n",
    "        b2(True)\n",
    "        b3(dog)\n",
    "        b4(20)\n",
    "    end\n",
    "\n",
    "    subgraph id1 [ ]\n",
    "    direction TB\n",
    "        a1(Add to rear)\n",
    "        a2(Remove from rear)\n",
    "    end\n",
    "\n",
    "    a1-->b1\n",
    "    b1-->a2\n",
    "    c1-->b4\n",
    "    b4-->c2\n",
    "\n",
    "    style id1 fill:#FFFFFF, stroke-width:0px\n",
    "    style id3 fill:#FFFFFF, stroke-width:0px\n",
    "```\n",
    "\n",
    "**Examples**\n",
    "- Cine for getting a movie ticket.\n",
    "- Check-out line at a grocery store, and we wait in the cafeteria line (so that we can pop the tray stack).\n",
    "- Operating systems use a number of different queues to control processes within a computer. The scheduling of what gets done next is typically based on a queuing algorithm that tries to execute programs as quickly as possible and serve as many users as it can.\n",
    "\n",
    "## Deque Abstract Data Type\n",
    "\n",
    "The deque abstract data type is defined by the following structure and operations. A deque is structured, as described above, as an ordered collection of items where items are added and removed from either end, either **front** or **rear**. \n",
    "\n",
    "### Deque Operations\n",
    "\n",
    "- `Deque()` creates a new deque that is empty. It needs no parameters and returns an empty deque.\n",
    "- `add_front(item)` adds a new item to the front of the deque. It needs the item and returns nothing.\n",
    "- `add_rear(item)` adds a new item to the rear of the deque. It needs the item and returns nothing.\n",
    "- `remove_front()` removes the front item from the deque. It needs no parameters and returns the item. The deque is modified.\n",
    "- `remove_rear()` removes the rear item from the deque. It needs no parameters and returns the item. The deque is modified.\n",
    "- `is_empty()` tests to see whether the deque is empty. It needs no parameters and returns a boolean value.\n",
    "- `size()` returns the number of items in the deque. It needs no parameters and returns an integer.\n",
    "\n",
    "`d = Deque()` creates a deque that starts out empty, table below shows the results of a sequence of deque operations.\n",
    "\n",
    "|   Deque Operation    |       Deque Contents       | Return Value |\n",
    "| :------------------: | :------------------------: | :----------: |\n",
    "|    `d.is_empty()`    |            `[]`            |     True     |\n",
    "|   `d.add_rear(4)`    |           `[4]`            |              |\n",
    "| `d.add_rear('dog')`  |        `['dog',4,]`        |              |\n",
    "| `d.add_front('cat')` |     `['dog',4,'cat']`      |              |\n",
    "| `d.add_front(True)`  |   `['dog',4,'cat',True]`   |              |\n",
    "|      `d.size()`      |   `['dog',4,'cat',True]`   |      4       |\n",
    "|    `d.is_empty()`    |   `['dog',4,'cat',True]`   |    False     |\n",
    "|  `d.add_rear(8.4)`   | `[8.4,'dog',4,'cat',True]` |              |\n",
    "|  `d.remove_rear()`   |   `['dog',4,'cat',True]`   |     8.4      |\n",
    "|  `d.remove_front()`  |     `['dog',4,'cat']`      |     True     |\n",
    "\n",
    "## Implementing a Deque in Python\n",
    "\n",
    "An abstract data type (ADT) when given a physical implementation then we refer to the implementation as a data structure.\n",
    "\n",
    "In any object-oriented programming language, the implementation of choice for an abstract data type such as a **Deque** is the creation of a new class. The deque operations are implemented as methods. Further, to implement a queue, which is a collection of elements, it makes sense to utilize the primitive collections provided. "
   ]
  },
  {
   "cell_type": "code",
   "execution_count": 1,
   "metadata": {},
   "outputs": [],
   "source": [
    "class Deque:\n",
    "    \n",
    "    def __init__(self):\n",
    "        self.items = []\n",
    "\n",
    "    def is_empty(self):\n",
    "        return self.items == []\n",
    "\n",
    "    def add_front(self, item):\n",
    "        self.items.append(item)\n",
    "    \n",
    "    def add_rear(self, item):\n",
    "        self.items.insert(0, item)\n",
    "\n",
    "    def remove_front(self):\n",
    "        return self.items.pop()\n",
    "\n",
    "    def remove_rear(self):\n",
    "        return self.items.pop(0)\n",
    "\n",
    "    def size(self):\n",
    "        return len(self.items)"
   ]
  },
  {
   "cell_type": "code",
   "execution_count": 2,
   "metadata": {},
   "outputs": [
    {
     "name": "stdout",
     "output_type": "stream",
     "text": [
      "True\n",
      "4\n",
      "False\n",
      "8.4\n",
      "True\n"
     ]
    }
   ],
   "source": [
    "# Create a new deque\n",
    "d = Deque()\n",
    "\n",
    "# Check if the deque is empty\n",
    "print(d.is_empty())\n",
    "\n",
    "# Add 4 at rear\n",
    "d.add_rear(4)\n",
    "\n",
    "# Add \"dog\" at rear\n",
    "d.add_rear('dog')\n",
    "\n",
    "# Add \"cat\" at front\n",
    "d.add_front('cat')\n",
    "\n",
    "# Add True at front\n",
    "d.add_front(True)\n",
    "\n",
    "# Give the size of the deque\n",
    "print(d.size())\n",
    "\n",
    "# Check if the deque is empty\n",
    "print(d.is_empty())\n",
    "\n",
    "# Add 8.4 at rear\n",
    "d.add_rear(8.4)\n",
    "\n",
    "# Remove item from rear\n",
    "print(d.remove_rear())\n",
    "\n",
    "# Remove item from front\n",
    "print(d.remove_front())\n"
   ]
  },
  {
   "cell_type": "markdown",
   "metadata": {},
   "source": [
    "## Practical usage in python\n",
    "\n",
    "`collections.deque` module provides an implementation of the dequeue data structure, also known as the double ended queue.\n",
    "\n",
    "And you can find more information about the interface and api from [docs](https://docs.python.org/3/library/collections.html#collections.deque)."
   ]
  },
  {
   "cell_type": "markdown",
   "metadata": {},
   "source": [
    "## Practice Problem"
   ]
  },
  {
   "cell_type": "markdown",
   "metadata": {},
   "source": [
    "### Write a function `check_pallindrome(string)` that return true if the input string is palindrome otherwise return false.\n",
    "\n",
    "A palindrome is a string that reads the same forward and backward.\n",
    "\n",
    "**Example**: radar, toot, madam etc."
   ]
  },
  {
   "cell_type": "code",
   "execution_count": 3,
   "metadata": {},
   "outputs": [
    {
     "name": "stdout",
     "output_type": "stream",
     "text": [
      "True\n",
      "True\n",
      "False\n",
      "False\n",
      "True\n"
     ]
    }
   ],
   "source": [
    "def check_pallindrome(string):\n",
    "    characters = Deque()\n",
    "\n",
    "    for char in string:\n",
    "        characters.add_rear(char)\n",
    "\n",
    "    while characters.size() > 1:\n",
    "        rear = characters.remove_rear()\n",
    "        front = characters.remove_front()\n",
    "\n",
    "        if rear != front:\n",
    "            return False\n",
    "    \n",
    "    return True\n",
    "\n",
    "print(check_pallindrome(\"radar\"))\n",
    "print(check_pallindrome(\"toot\"))\n",
    "print(check_pallindrome(\"lsdkjfskf\"))\n",
    "print(check_pallindrome(\"abb\"))\n",
    "print(check_pallindrome(\"abba\"))"
   ]
  },
  {
   "cell_type": "code",
   "execution_count": null,
   "metadata": {},
   "outputs": [],
   "source": []
  }
 ],
 "metadata": {
  "interpreter": {
   "hash": "dae0f32b50a4d158a1a751f5eb363916827e94eab0ac36188e044907592a3788"
  },
  "kernelspec": {
   "display_name": "Python 3.10.0 64-bit ('.venv': venv)",
   "name": "python3"
  },
  "language_info": {
   "codemirror_mode": {
    "name": "ipython",
    "version": 3
   },
   "file_extension": ".py",
   "mimetype": "text/x-python",
   "name": "python",
   "nbconvert_exporter": "python",
   "pygments_lexer": "ipython3",
   "version": "3.10.0"
  },
  "orig_nbformat": 2
 },
 "nbformat": 4,
 "nbformat_minor": 2
}
