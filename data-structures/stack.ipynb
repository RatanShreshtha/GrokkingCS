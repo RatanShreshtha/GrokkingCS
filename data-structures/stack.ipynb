{
 "cells": [
  {
   "cell_type": "markdown",
   "metadata": {},
   "source": [
    "# Stack\n",
    "\n",
    "A stack (sometimes called a **“push-down stack”**) is an ordered collection of items where the addition of new items and the removal of existing items always takes place at the same end. This end is commonly referred to as the **\"top\"**. The end opposite the top is known as the **“base”**.\n",
    "\n",
    "The base of the stack is significant since items stored in the stack that are closer to the base represent those that have been in the stack the longest. The most recently added item is the one that is in position to be removed first. This ordering principle is sometimes called **LIFO(last-in, first-out)**. It provides an ordering based on length of time in the collection. Newer items are near the top, while older items are near the base.\n",
    "\n",
    "![stack](https://runestone.academy/runestone/books/published/pythonds/_images/primitive.png)\n",
    "\n",
    "**Examples**\n",
    "- Almost any cafeteria has a stack of trays or plates where you take the one at the top, uncovering a new tray or plate for the next customer in line.\n",
    "- Every web browser has a Back button. As you navigate from web page to web page, those pages are placed on a stack (actually it is the URLs that are going on the stack). The current page that you are viewing is on the top and the first page you looked at is at the base. If you click on the Back button, you begin to move in reverse order through the pages.\n",
    "\n",
    "## Stack Abstract Data Type\n",
    "\n",
    "The stack abstract data type is defined by the following structure and operations. A stack is structured, as described above, as an ordered collection of items where items are added to and removed from the end called the **top**. Stacks are ordered **LIFO**. \n",
    "\n",
    "### Stack Operations\n",
    "\n",
    "- `Stack()` creates a new stack that is empty. It needs no parameters and returns an empty stack.\n",
    "- `push(item)` adds a new item to the top of the stack. It needs the item and returns nothing.\n",
    "- `pop()` removes the top item from the stack. It needs no parameters and returns the item. The stack is modified.\n",
    "- `peek()` returns the top item from the stack but does not remove it. It needs no parameters. The stack is not modified.\n",
    "- `is_empty()` tests to see whether the stack is empty. It needs no parameters and returns a boolean value.\n",
    "- `size()` returns the number of items on the stack. It needs no parameters and returns an integer.\n",
    "\n",
    "`s = Stack()` creates a stack that starts out empty, table below shows the results of a sequence of stack operations.\n",
    "\n",
    "| Stack Operation |    Stack Contents    | Return Value |\n",
    "| :-------------: | :------------------: | :----------: |\n",
    "|  `s.is_empty()`  |         `[]`         |    `True`    |\n",
    "|   `s.push(4)`   |        `[4]`         |              |\n",
    "| `s.push('dog')` |     `[4,'dog']`      |              |\n",
    "|   `s.peek()`    |     `[4,'dog']`      |   `'dog'`    |\n",
    "| `s.push(True)`  |   `[4,'dog',True]`   |              |\n",
    "|   `s.size()`    |   `[4,'dog',True]`   |     `3`      |\n",
    "|  `s.is_empty()`  |   `[4,'dog',True]`   |   `False`    |\n",
    "|  `s.push(8.4)`  | `[4,'dog',True,8.4]` |              |\n",
    "|    `s.pop()`    |   `[4,'dog',True]`   |    `8.4`     |\n",
    "|    `s.pop()`    |     `[4,'dog']`      |    `True`    |\n",
    "|   `s.size()`    |     `[4,'dog']`      |     `2`      |\n",
    "\n",
    "## Implementing a Stack in Python\n",
    "\n",
    "An abstract data type (ADT) when given a physical implementation then we refer to the implementation as a data structure.\n",
    "\n",
    "In any object-oriented programming language, the implementation of choice for an abstract data type such as a **Stack** is the creation of a new class. The stack operations are implemented as methods. Further, to implement a stack, which is a collection of elements, it makes sense to utilize the primitive collections provided. \n",
    "\n",
    "Python provides `List` an ordered collection mechanism and a set of methods, we need only to decide which end of the list will be considered the top of the stack and which will be the base. Once that decision is made, the operations can be implemented using the list methods."
   ]
  },
  {
   "cell_type": "code",
   "execution_count": 1,
   "metadata": {},
   "outputs": [],
   "source": [
    "class Stack:\n",
    "\n",
    "    def __init__(self):\n",
    "        self.items = []\n",
    "\n",
    "    def push(self, item):\n",
    "        self.items.append(item)\n",
    "\n",
    "    def pop(self):\n",
    "        return self.items.pop()\n",
    "\n",
    "    def peek(self):\n",
    "        return self.items[-1]\n",
    "    \n",
    "    def is_empty(self):\n",
    "        return self.items == []\n",
    "\n",
    "    def size(self):\n",
    "        return len(self.items)"
   ]
  },
  {
   "cell_type": "code",
   "execution_count": 2,
   "metadata": {},
   "outputs": [
    {
     "name": "stdout",
     "output_type": "stream",
     "text": [
      "True\n",
      "dog\n",
      "3\n",
      "False\n",
      "8.4\n",
      "True\n",
      "2\n"
     ]
    }
   ],
   "source": [
    "# Create a new stack\n",
    "s = Stack()\n",
    "\n",
    "# Check if the stack is empty\n",
    "print(s.is_empty())\n",
    "\n",
    "# Push 4 at top of stack\n",
    "s.push(4)\n",
    "\n",
    "# Push \"dog\" at top of stack\n",
    "s.push('dog')\n",
    "\n",
    "# Give the top element of the stack\n",
    "print(s.peek())\n",
    "\n",
    "# Push \"True\" at top of stack\n",
    "s.push(True)\n",
    "\n",
    "# Give the size of the stack\n",
    "print(s.size())\n",
    "\n",
    "# Check if the stack is empty\n",
    "print(s.is_empty())\n",
    "\n",
    "# Push 8.4 at top of stack\n",
    "s.push(8.4)\n",
    "\n",
    "# Pop the top element from the stack and return it\n",
    "print(s.pop())\n",
    "\n",
    "# Pop the top element from the stack and return it\n",
    "print(s.pop())\n",
    "\n",
    "# Give the size of the stack\n",
    "print(s.size())"
   ]
  },
  {
   "cell_type": "markdown",
   "metadata": {},
   "source": [
    "## Practice Problems"
   ]
  },
  {
   "cell_type": "markdown",
   "metadata": {},
   "source": [
    "### Write a function `reverse_string(mystr)` that reverses the characters in a string.\n"
   ]
  },
  {
   "cell_type": "code",
   "execution_count": 3,
   "metadata": {},
   "outputs": [
    {
     "name": "stdout",
     "output_type": "stream",
     "text": [
      "9876543210\n",
      "elppa\n",
      "... ytic esidarap eht ot nwod em ekaT\n"
     ]
    }
   ],
   "source": [
    "def reverse_string(mystr):\n",
    "    s = Stack()\n",
    "    \n",
    "    for ch in mystr:\n",
    "        s.push(ch)\n",
    "    \n",
    "    reverse_string = \"\"\n",
    "    while not s.is_empty():\n",
    "        reverse_string += s.pop()\n",
    "    \n",
    "    return reverse_string\n",
    "\n",
    "print(reverse_string('0123456789'))\n",
    "print(reverse_string('apple'))\n",
    "print(reverse_string('Take me down to the paradise city ...'))"
   ]
  },
  {
   "cell_type": "markdown",
   "metadata": {},
   "source": [
    "### Write a function `parentheses_checker(expression)` that tells if the expression has balanced parentheses."
   ]
  },
  {
   "cell_type": "code",
   "execution_count": 4,
   "metadata": {},
   "outputs": [
    {
     "name": "stdout",
     "output_type": "stream",
     "text": [
      "True\n",
      "False\n",
      "True\n",
      "False\n"
     ]
    }
   ],
   "source": [
    "def parentheses_checker(expression):\n",
    "    opening_parentheses = [\"(\", \"[\", \"{\"]\n",
    "    closing_parentheses = [\")\", \"]\", \"}\"]\n",
    "    \n",
    "    s = Stack()\n",
    "    balanced = True\n",
    "    \n",
    "    for ch in expression:\n",
    "        if ch in opening_parentheses:\n",
    "            s.push(ch)\n",
    "        else:\n",
    "            if s.is_empty():\n",
    "                balanced = False\n",
    "            else:\n",
    "                top_parentheses = s.pop()\n",
    "                if opening_parentheses.index(top_parentheses) != closing_parentheses.index(ch):\n",
    "                       balanced = False\n",
    "    \n",
    "    return balanced and s.is_empty()\n",
    "    \n",
    "print(parentheses_checker('((()))'))\n",
    "print(parentheses_checker('(()'))\n",
    "\n",
    "print(parentheses_checker('{({([][])}())}'))\n",
    "print(parentheses_checker('[{()]'))"
   ]
  },
  {
   "cell_type": "markdown",
   "metadata": {},
   "source": [
    "### Write a function `base_convert(number, base)` that converts decimal integers to integer in another base system (upto 16)."
   ]
  },
  {
   "cell_type": "code",
   "execution_count": 5,
   "metadata": {},
   "outputs": [
    {
     "name": "stdout",
     "output_type": "stream",
     "text": [
      "101010\n",
      "222\n",
      "52\n",
      "2A\n",
      "11111001011\n",
      "133023\n",
      "3713\n",
      "7CB\n"
     ]
    }
   ],
   "source": [
    "def base_convert(number, base):\n",
    "\n",
    "    digits = \"0123456789ABCDEF\"\n",
    "\n",
    "    remainders = Stack()\n",
    "\n",
    "    while number:\n",
    "        remainders.push(number % base)\n",
    "        number = number // base\n",
    "\n",
    "    converted_number = \"\"\n",
    "\n",
    "    while not remainders.is_empty():\n",
    "        digit = digits[remainders.pop()]\n",
    "        converted_number += digit\n",
    "    \n",
    "    return converted_number\n",
    "\n",
    "# Convert 42 from decimal to different base number systems\n",
    "print(base_convert(42, 2))\n",
    "print(base_convert(42, 4))\n",
    "print(base_convert(42, 8))\n",
    "print(base_convert(42, 16))\n",
    "\n",
    "# Convert 1995 from decimal to different base number systems\n",
    "print(base_convert(1995, 2))\n",
    "print(base_convert(1995, 4))\n",
    "print(base_convert(1995, 8))\n",
    "print(base_convert(1995, 16))\n"
   ]
  },
  {
   "cell_type": "markdown",
   "metadata": {},
   "source": [
    "### Write a function `infix_to_postfix(expression)` that converts an expresion from infix notation to postfix notation.\n",
    "\n",
    "1. Create an empty stack called opstack for keeping operators. Create an empty list for output.\n",
    "2. Convert the input infix string to a list by using the string method split.\n",
    "3. Scan the token list from left to right.\n",
    "    - If the token is an operand, append it to the end of the output list.\n",
    "    - If the token is a left parenthesis, push it on the opstack.\n",
    "    - If the token is a right parenthesis, pop the opstack until the corresponding left parenthesis is removed. Append each operator to the end of the output list.\n",
    "    - If the token is an operator, *, /, +, or -, push it on the opstack. However, first remove any operators already on the opstack that have higher or equal precedence and append them to the output list.\n",
    "4. When the input expression has been completely processed, check the opstack. Any operators still on the stack can be removed and appended to the end of the output list.\n"
   ]
  },
  {
   "cell_type": "code",
   "execution_count": 6,
   "metadata": {},
   "outputs": [
    {
     "name": "stdout",
     "output_type": "stream",
     "text": [
      "A B * C D * +\n",
      "A B + C * D E - F G + * -\n",
      "1 2 + 3 4 * 5 / -\n",
      "10 3 5 * 16 4 - / +\n",
      "5 3 4 2 - ^ *\n"
     ]
    }
   ],
   "source": [
    "def infix_to_postfix(expression):\n",
    "    precedence = {\n",
    "        \"^\": 4,\n",
    "        \"*\": 3,\n",
    "        \"/\": 3,\n",
    "        \"+\": 2,\n",
    "        \"-\": 2,\n",
    "        \"(\": 1\n",
    "    }\n",
    "    \n",
    "    postfix_list = []\n",
    "    op_stack = Stack()\n",
    "    token_list = expression.split()\n",
    "\n",
    "    for token in token_list:\n",
    "        if token.isdigit() or token.isalpha():\n",
    "            postfix_list.append(token)\n",
    "        \n",
    "        elif token == \"(\":\n",
    "            op_stack.push(token)\n",
    "        \n",
    "        elif token == \")\":\n",
    "            while op_stack.peek() != \"(\":\n",
    "                postfix_list.append(op_stack.pop())\n",
    "            op_stack.pop()\n",
    "\n",
    "        else:\n",
    "            while not op_stack.is_empty() and precedence[op_stack.peek()] >= precedence[token]:\n",
    "                postfix_list.append(op_stack.pop())\n",
    "            op_stack.push(token)\n",
    "    \n",
    "    while not op_stack.is_empty():\n",
    "        postfix_list.append(op_stack.pop())\n",
    "\n",
    "    return \" \".join(postfix_list) \n",
    "\n",
    "print(infix_to_postfix(\"A * B + C * D\"))\n",
    "print(infix_to_postfix(\"( A + B ) * C - ( D - E ) * ( F + G )\"))\n",
    "print(infix_to_postfix(\"( 1 + 2 ) - 3 * 4 / 5\"))\n",
    "print(infix_to_postfix(\"10 + 3 * 5 / ( 16 - 4 )\"))\n",
    "print(infix_to_postfix(\"5 * 3 ^ ( 4 - 2 )\"))\n"
   ]
  },
  {
   "cell_type": "markdown",
   "metadata": {},
   "source": [
    "### Write a function `evaluate_postfix(expression)` that evaluates an expresion in postfix notation.\n",
    "\n",
    "Assume the postfix expression is a string of tokens delimited by spaces. The operators are *, /, +, and - and the operands are assumed to be single-digit integer values. The output will be an integer result.\n",
    "\n",
    "1. Create an empty stack called operandStack.\n",
    "2. Convert the string to a list by using the string method split.\n",
    "3. Scan the token list from left to right.\n",
    "    - If the token is an operand, convert it from a string to an integer and push the value onto the operandStack.\n",
    "    - If the token is an operator, *, /, +, or -, it will need two operands. Pop the operandStack twice. The first pop is the second operand and the second pop is the first operand. Perform the arithmetic operation. Push the result back on the operandStack.\n",
    "4. When the input expression has been completely processed, the result is on the stack. Pop the operandStack and return the value."
   ]
  },
  {
   "cell_type": "code",
   "execution_count": 7,
   "metadata": {},
   "outputs": [
    {
     "name": "stdout",
     "output_type": "stream",
     "text": [
      "3.0\n",
      "5.0\n"
     ]
    }
   ],
   "source": [
    "from operator import add, sub, mul, truediv, mod, pow\n",
    "\n",
    "def evaluate_postfix(expression):\n",
    "    operators = {\n",
    "        \"+\": add,\n",
    "        \"-\": sub,\n",
    "        \"*\": mul,\n",
    "        \"/\": truediv,\n",
    "        \"^\": pow,\n",
    "    }\n",
    "\n",
    "    operands = Stack()\n",
    "    token_list = expression.split()\n",
    "\n",
    "    for token in token_list:\n",
    "        if token.isdigit():\n",
    "            operands.push(int(token))\n",
    "        else:\n",
    "            operand_2 = operands.pop()\n",
    "            operand_1 = operands.pop()\n",
    "            exp = operators[token](operand_1, operand_2)\n",
    "            operands.push(exp)\n",
    "\n",
    "    return operands.pop()\n",
    "\n",
    "print(evaluate_postfix('7 8 + 3 2 + /'))\n",
    "print(evaluate_postfix('17 8 + 3 2 + /'))"
   ]
  },
  {
   "cell_type": "code",
   "execution_count": null,
   "metadata": {},
   "outputs": [],
   "source": []
  }
 ],
 "metadata": {
  "interpreter": {
   "hash": "dae0f32b50a4d158a1a751f5eb363916827e94eab0ac36188e044907592a3788"
  },
  "kernelspec": {
   "display_name": "Python 3.10.0 64-bit ('.venv': venv)",
   "name": "python3"
  },
  "language_info": {
   "codemirror_mode": {
    "name": "ipython",
    "version": 3
   },
   "file_extension": ".py",
   "mimetype": "text/x-python",
   "name": "python",
   "nbconvert_exporter": "python",
   "pygments_lexer": "ipython3",
   "version": "3.10.0"
  }
 },
 "nbformat": 4,
 "nbformat_minor": 4
}
