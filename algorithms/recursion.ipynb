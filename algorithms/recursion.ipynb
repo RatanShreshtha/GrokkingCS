{
 "cells": [
  {
   "cell_type": "markdown",
   "metadata": {},
   "source": [
    "# Recursion\n",
    "\n",
    "Recursion is a method of solving problems that involves breaking a problem down into smaller and smaller subproblems until you get to a small enough problem that it can be solved trivially.\n",
    "\n",
    "Usually recursion involves a function calling itself, recursion allows us to write elegant solutions to problems that may otherwise be very difficult to program."
   ]
  },
  {
   "cell_type": "markdown",
   "metadata": {},
   "source": [
    "## Three Laws of Recursion\n",
    "\n",
    "All recursive algorithms must obey three important laws:\n",
    "- A recursive algorithm must have a **base case**.\n",
    "- A recursive algorithm must change its state and move toward the base case.\n",
    "- A recursive algorithm must call itself, recursively.\n",
    "\n",
    "A **base case** is typically a problem that is small enough to solve directly. \n",
    "\n",
    "To obey the second law, we must arrange for a change of state that moves the algorithm toward the base case. A change of state means that some data that the algorithm is using is modified. Usually the data that represents our problem gets smaller in some way. \n",
    "\n",
    "The final law is that the algorithm must call itself. This is the very definition of recursion, functions are good because you can take a large problem and break it up into smaller problems. The logic of recursion is an elegant expression of solving a problem by breaking it down into a smaller and easier problems."
   ]
  },
  {
   "cell_type": "code",
   "execution_count": 5,
   "metadata": {},
   "outputs": [
    {
     "name": "stdout",
     "output_type": "stream",
     "text": [
      "1110\n",
      "5AD\n"
     ]
    }
   ],
   "source": [
    "def convert_to_base(n, base):\n",
    "   base_digits = \"0123456789ABCDEF\"\n",
    "   \n",
    "   if n < base:\n",
    "      return base_digits[n]\n",
    "   else:\n",
    "      return convert_to_base(n//base,base) + base_digits[n%base]\n",
    "\n",
    "\n",
    "print(convert_to_base(10, 2))\n",
    "print(convert_to_base(1453, 16))\n"
   ]
  },
  {
   "cell_type": "markdown",
   "metadata": {},
   "source": [
    "## Stack Frames: Implementing Recursion\n",
    "\n",
    "When a function is called in Python, a stack frame is allocated to handle the local variables of the function. When the function returns, the return value is left on top of the stack for the calling function to access.\n",
    "\n",
    "```python\n",
    "def toStr(n,base):\n",
    "   convertString = \"0123456789ABCDEF\"\n",
    "   if n < base:\n",
    "      return convertString[n]\n",
    "   else:\n",
    "      return toStr(n//base,base) + convertString[n%base]\n",
    "\n",
    "print(toStr(10, 2))\n",
    "```\n",
    "\n",
    "![Stack Frames](https://runestone.academy/runestone/books/published/pythonds/_images/newcallstack.png)"
   ]
  },
  {
   "cell_type": "markdown",
   "metadata": {},
   "source": [
    "## Visualizing Recursion\n",
    "\n",
    "Fractals come from a branch of mathematics, and have much in common with recursion. The definition of a fractal is that when you look at it the fractal has the same basic shape no matter how much you magnify it. Some examples from nature are the coastlines of continents, snowflakes, mountains, and even trees or shrubs.\n",
    "\n",
    "### Sierpinski Triangle\n",
    "\n",
    "Sierpinski triangle illustrates a three-way recursive algorithm. The procedure for drawing a Sierpinski triangle by hand is simple. Start with a single large triangle. Divide this large triangle into four new triangles by connecting the midpoint of each side. Ignoring the middle triangle that you just created, apply the same procedure to each of the three corner triangles. Each time you create a new set of triangles, you recursively apply this procedure to the three smaller corner triangles. You can continue to apply this procedure indefinitely if you have a sharp enough pencil. "
   ]
  },
  {
   "cell_type": "markdown",
   "metadata": {},
   "source": [
    "## Complex Recursive Problems\n",
    "\n",
    "### Tower of Hanoi\n",
    "\n",
    "The Tower of Hanoi puzzle was invented by the French mathematician Edouard Lucas in 1883. He was inspired by a legend that tells of a Hindu temple where the puzzle was presented to young priests. At the beginning of time, the priests were given three poles and a stack of 64 gold disks, each disk a little smaller than the one beneath it. Their assignment was to transfer all 64 disks from one of the three poles to another, with two important constraints. They could only move one disk at a time, and they could never place a larger disk on top of a smaller one. The priests worked very efficiently, day and night, moving one disk every second. When they finished their work, the legend said, the temple would crumble into dust and the world would vanish."
   ]
  },
  {
   "cell_type": "code",
   "execution_count": 4,
   "metadata": {},
   "outputs": [
    {
     "name": "stdout",
     "output_type": "stream",
     "text": [
      "Move disc from A to B\n",
      "Move disc from A to C\n",
      "Move disc from B to C\n",
      "Move disc from A to B\n",
      "Move disc from C to A\n",
      "Move disc from C to B\n",
      "Move disc from A to B\n"
     ]
    }
   ],
   "source": [
    "def tower_of_hanoi(num_discs, source, destination, auxiliary):\n",
    "    if num_discs >=1:\n",
    "        tower_of_hanoi(num_discs - 1, source, auxiliary, destination)\n",
    "        print(f\"Move disc from {source} to {destination}\")\n",
    "        tower_of_hanoi(num_discs - 1, auxiliary, destination, source)\n",
    "\n",
    "tower_of_hanoi(3, \"A\", \"B\", \"C\")"
   ]
  },
  {
   "cell_type": "markdown",
   "metadata": {},
   "source": [
    "### Exploring a Maze"
   ]
  }
 ],
 "metadata": {
  "interpreter": {
   "hash": "dae0f32b50a4d158a1a751f5eb363916827e94eab0ac36188e044907592a3788"
  },
  "kernelspec": {
   "display_name": "Python 3.10.0 64-bit ('.venv': venv)",
   "name": "python3"
  },
  "language_info": {
   "codemirror_mode": {
    "name": "ipython",
    "version": 3
   },
   "file_extension": ".py",
   "mimetype": "text/x-python",
   "name": "python",
   "nbconvert_exporter": "python",
   "pygments_lexer": "ipython3",
   "version": "3.10.0"
  }
 },
 "nbformat": 4,
 "nbformat_minor": 4
}
