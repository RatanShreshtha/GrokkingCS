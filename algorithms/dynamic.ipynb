{
 "cells": [
  {
   "cell_type": "markdown",
   "metadata": {},
   "source": [
    "# Dynamic Programming\n",
    "\n",
    "Dynamic Programming is mainly an optimization over plain recursion. Wherever we see a recursive solution that has repeated calls for same inputs, we can optimize it using Dynamic Programming. The idea is to simply store the results of subproblems, so that we do not have to re-compute them when needed later. This simple optimization reduces time complexities from exponential to polynomial.\n",
    "\n",
    "FAn optimization problem can be solved using dynamic programming if the problem has the following properties:\n",
    "\n",
    "1. Overlapping Subproblems\n",
    "2. Optimal Substructure\n",
    "\n",
    "## Overlapping Subproblems\n",
    "\n",
    "Like Divide and Conquer, **Dynamic Programming** combines solutions to sub-problems. Dynamic Programming is mainly used when *solutions of same subproblems are needed again and again*. In dynamic programming, *computed solutions to subproblems are stored in a table so that these don’t have to be recomputed*. So Dynamic Programming is not useful when there are no common (overlapping) subproblems because there is no point storing the solutions if they are not needed again.\n",
    "\n",
    "**Example**\n",
    "\n",
    "Recursive program for Fibonacci Numbers, there are many subproblems which are solved again and again.\n",
    "\n",
    "```\n",
    "                          fib(5)\n",
    "                     /             \\\n",
    "               fib(4)                fib(3)\n",
    "             /      \\                /     \\\n",
    "         fib(3)      fib(2)         fib(2)    fib(1)\n",
    "        /     \\        /    \\       /    \\\n",
    "  fib(2)   fib(1)  fib(1) fib(0) fib(1) fib(0)\n",
    "  /    \\\n",
    "fib(1) fib(0)\n",
    "```\n",
    "\n",
    "## Optimal Substructure\n",
    "\n",
    "A given problems has Optimal Substructure Property if optimal solution of the given problem can be obtained by using optimal solutions of its subproblems.\n",
    "\n",
    "**Example**\n",
    "\n",
    "The Shortest Path problem has following optimal substructure property:\n",
    "\n",
    "    If a node x lies in the shortest path from a source node u to destination node v then \n",
    "    shortest path from u to v is combination of shortest path from u to x and shortest path from x to v. \n",
    "\n",
    "The standard All Pair Shortest Path algorithms like Floyd–Warshall and Bellman–Ford are typical examples of **Dynamic Programming**.\n",
    "\n",
    "## Tabulation vs Memoization\n",
    "\n",
    "There are following two different ways to store the values so that the values of a sub-problem can be reused. Here, will discuss two patterns of solving DP problem:\n",
    "\n",
    "1. Tabulation (Bottom Up)\n",
    "2. Memoization (Top Down)\n",
    "\n",
    "### Tabulation Method (Bottom Up Dynamic Programming)\n",
    "\n",
    "As the name itself suggests starting from the bottom and cumulating answers to the top. Let’s discuss in terms of state transition.\n",
    "\n",
    "Let’s describe a state for our DP problem to be **`dp[x]`** with **`dp[0]` as base state** and **`dp[n]` as our destination state**. So,  we need to find the value of destination state i.e `dp[n]`.\n",
    "\n",
    "If we start our transition from our base state i.e `dp[0]` and follow our state transition relation to reach our destination state `dp[n]`, we call it **Bottom Up** approach as it is quite clear that we started our transition from the **bottom base state** and reached the **top most desired state**.\n",
    "\n",
    "### Memoization Method (Top Down Dynamic Programming) \n",
    "\n",
    "Let’s describe it in terms of state transition. If we need to find the value for some state say `dp[n]` and instead of starting from the base state that i.e `dp[0]` we ask our answer from the states that can reach the destination state `dp[n]` following the state transition relation, then it is the top-down fashion of DP.\n",
    "\n",
    "Here, we start our journey from the **top most destination state** and compute its answer by taking in count the values of states that can reach the **destination state**, till we reach the **bottom most base state**.\n",
    "\n",
    "\n",
    "|                         |             Tabulation (Bottom Up)              |          Memoization (Top Down )           |\n",
    "| :---------------------- | :---------------------------------------------: | :----------------------------------------: |\n",
    "| **State**               | State transition relation is difficult to think | State transition relation is easy to think |\n",
    "| **Code**                |    Code is complicated with a lot conditions    |     Code is easy and less complicated      |\n",
    "| **Speed**               |                      Fast                       |                    Slow                    |\n",
    "| **Sub-Problem Solving** |           All sub-problems are solved           |     Solves only required sub-problems      |\n",
    "| **Table Entries**       |             All entries are filled.             |        Entries are filled on demand        |\n"
   ]
  },
  {
   "cell_type": "code",
   "execution_count": 1,
   "metadata": {},
   "outputs": [
    {
     "name": "stdout",
     "output_type": "stream",
     "text": [
      "139423224561697880139724382870407283950070256587697307264108962948325571622863290691557658876222521294125\n",
      "139423224561697880139724382870407283950070256587697307264108962948325571622863290691557658876222521294125\n"
     ]
    }
   ],
   "source": [
    "fibonacci_table = [0, 1]\n",
    "def fibonacci_tabulation(n):\n",
    "\n",
    "    for i in range(2, n + 1):\n",
    "        fib_num = fibonacci_table[i - 1] + fibonacci_table[i - 2]\n",
    "        fibonacci_table.append(fib_num)\n",
    "    \n",
    "    return fibonacci_table[-1]\n",
    "\n",
    "fibonacci_lookups = {}\n",
    "def fibonacci_memoization(n):\n",
    "\n",
    "    if n in fibonacci_lookups:\n",
    "        return fibonacci_lookups[n]\n",
    "\n",
    "    if n < 2:  # base case\n",
    "        fibonacci_lookups[n] = n\n",
    "        return fibonacci_lookups[n]\n",
    "\n",
    "    fibonacci_lookups[n] = fibonacci_memoization(n - 1) + fibonacci_memoization(n - 2)\n",
    "\n",
    "    return fibonacci_lookups[n]\n",
    "\n",
    "n = 500\n",
    "print(fibonacci_tabulation(n))\n",
    "print(fibonacci_memoization(n))"
   ]
  },
  {
   "cell_type": "code",
   "execution_count": null,
   "metadata": {},
   "outputs": [],
   "source": []
  }
 ],
 "metadata": {
  "interpreter": {
   "hash": "71c01f6a93c53724f254415b3a33b9c81bc88401a2733a6253d7321896399191"
  },
  "kernelspec": {
   "display_name": "Python 3.10.0 64-bit ('.venv': venv)",
   "name": "python3"
  },
  "language_info": {
   "codemirror_mode": {
    "name": "ipython",
    "version": 3
   },
   "file_extension": ".py",
   "mimetype": "text/x-python",
   "name": "python",
   "nbconvert_exporter": "python",
   "pygments_lexer": "ipython3",
   "version": "3.10.0"
  }
 },
 "nbformat": 4,
 "nbformat_minor": 4
}
