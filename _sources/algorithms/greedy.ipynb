{
 "cells": [
  {
   "cell_type": "markdown",
   "metadata": {},
   "source": [
    "# Greedy Algorithms\n",
    "\n",
    "Greedy is an algorithmic paradigm that builds up a solution piece by piece, always choosing the next piece that offers the most obvious and immediate benefit. Greedy algorithms are used for optimization problems. \n",
    "\n",
    "An optimization problem can be solved using greedy programming if the problem has the following properties: \n",
    "\n",
    "1. At every step, we can make a choice that looks best at the moment, and we get the optimal solution of the complete problem. \n",
    "\n",
    "\n",
    "If a Greedy Algorithm can solve a problem, then it generally becomes the best method to solve that problem.\n",
    "\n",
    "Greedy algorithms are in general more efficient than other techniques like Dynamic Programming, but greedy algorithms cannot always be applied."
   ]
  }
 ],
 "metadata": {
  "interpreter": {
   "hash": "71c01f6a93c53724f254415b3a33b9c81bc88401a2733a6253d7321896399191"
  },
  "kernelspec": {
   "display_name": "Python 3.10.0 64-bit ('.venv': venv)",
   "name": "python3"
  },
  "language_info": {
   "codemirror_mode": {
    "name": "ipython",
    "version": 3
   },
   "file_extension": ".py",
   "mimetype": "text/x-python",
   "name": "python",
   "nbconvert_exporter": "python",
   "pygments_lexer": "ipython3",
   "version": "3.10.0"
  },
  "orig_nbformat": 4
 },
 "nbformat": 4,
 "nbformat_minor": 2
}
