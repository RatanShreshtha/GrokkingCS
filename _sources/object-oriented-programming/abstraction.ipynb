{
 "cells": [
  {
   "cell_type": "markdown",
   "metadata": {},
   "source": [
    "# Abstraction\n",
    "Abstraction means that the user interacts with only selected attributes and methods of an object. Abstraction uses simplified, high level tools, to access a complex object.\n",
    "\n",
    "- Using simple things to represent complexity\n",
    "    - Objects, classes represent more complex underlying code\n",
    "- Hide complex details from user\n",
    "\n",
    "Abstraction is using simple classes to represent complexity. Abstraction is an extension of encapsulation. For example, you don’t have to know all the details of how the engine works to drive a car. A driver only uses a small selection of tools: like gas pedal, brake, steering wheel, blinker. The engineering is hidden from the driver. To make a car work, a lot of pieces have to work under the hood, but exposing that information to the driver would be a dangerous distraction.\n",
    "widget\n",
    "\n",
    "<!-- ![Abstraction](./images/abstraction.png) -->\n",
    "\n",
    "Abstraction also serves an important security role – by only displaying selected pieces of data, and only allowing data to be accessed through classes and modified through methods, the developer protects the data from exposure. To continue with the car example, you wouldn’t want an open gas tank while driving a car.\n",
    "\n",
    "## Benefits of abstraction:\n",
    "\n",
    "- Simple, high level user interfaces\n",
    "- Complex code is hidden\n",
    "- Security\n",
    "    - Only chosen parts of object are accessible\n",
    "- Easier software maintenance\n",
    "    - Code updates rarely change abstraction\n",
    "\n"
   ]
  }
 ],
 "metadata": {
  "interpreter": {
   "hash": "dae0f32b50a4d158a1a751f5eb363916827e94eab0ac36188e044907592a3788"
  },
  "kernelspec": {
   "display_name": "Python 3.10.0 64-bit ('.venv': venv)",
   "name": "python3"
  },
  "language_info": {
   "codemirror_mode": {
    "name": "ipython",
    "version": 3
   },
   "file_extension": ".py",
   "mimetype": "text/x-python",
   "name": "python",
   "nbconvert_exporter": "python",
   "pygments_lexer": "ipython3",
   "version": "3.10.0"
  },
  "orig_nbformat": 2
 },
 "nbformat": 4,
 "nbformat_minor": 2
}
