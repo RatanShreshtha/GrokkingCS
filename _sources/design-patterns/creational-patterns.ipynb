{
 "cells": [
  {
   "cell_type": "markdown",
   "metadata": {},
   "source": [
    "# Creational patterns\n",
    "\n",
    "These patterns provide various object creation mechanisms, which increase flexibility and reuse of existing code."
   ]
  }
 ],
 "metadata": {
  "language_info": {
   "name": "python"
  },
  "orig_nbformat": 4
 },
 "nbformat": 4,
 "nbformat_minor": 2
}
