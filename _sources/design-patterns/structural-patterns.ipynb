{
 "cells": [
  {
   "cell_type": "markdown",
   "metadata": {},
   "source": [
    "## Structural Design Patterns\n",
    "\n",
    "Structural design patterns explain how to assemble objects and classes into larger structures, while keeping these structures flexible and efficient."
   ]
  }
 ],
 "metadata": {
  "language_info": {
   "name": "python"
  },
  "orig_nbformat": 4
 },
 "nbformat": 4,
 "nbformat_minor": 2
}
