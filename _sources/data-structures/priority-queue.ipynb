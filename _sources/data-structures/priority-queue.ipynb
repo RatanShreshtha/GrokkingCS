{
 "cells": [
  {
   "cell_type": "markdown",
   "metadata": {},
   "source": [
    "# Priority Queue\n",
    "\n",
    "A priority queue acts like a queue in that you dequeue an item by removing it from the front. However, in a priority queue the logical order of items inside a queue is determined by their priority. The highest priority items are at the front of the queue and the lowest priority items are at the back. Thus when you enqueue an item on a priority queue, the new item may move all the way to the front.\n",
    "\n",
    "Ways to implement a priority queue using sorting functions and lists. However, inserting into a list is `O(n)` and sorting a list is `O(nlogn)`. We can do better. The classic way to implement a priority queue is using a data structure called a **binary heap**. A **binary heap** will allow us both enqueue and dequeue items in `O(logn)`.\n",
    "\n",
    "The binary heap has two common variations: the min heap, in which the smallest key is always at the front, and the max heap, in which the largest key value is always at the front.\n",
    "\n",
    "**Examples**\n",
    "- Donar/recipient list for organ transplant.\n",
    "- CPU Scheduling\n",
    "\n",
    "## Priority Queue Abstract Data Type\n",
    "\n",
    "The priority queue abstract data type is defined by the following structure and operations. A priority queue is structured, as described above, as an ordered collection of items which are added at one end, called the **“rear”**, and removed from the other end, called the **“front”**. Queues maintain a **FIFO** ordering property.\n",
    "\n",
    "### Priority Queue Operations\n",
    "- `PriorityQueue()` creates a new priority queue that is empty. It needs no parameters and returns an empty queue.\n",
    "- `enqueue(item)` adds a new item to the rear of the queue. It needs the item and returns nothing.\n",
    "- `dequeue()` removes the front item from the queue. It needs no parameters and returns the item. The queue is modified.\n",
    "- `is_empty()` tests to see whether the queue is empty. It needs no parameters and returns a boolean value.\n",
    "- `size()` returns the number of items in the queue. It needs no parameters and returns an integer.\n",
    "\n",
    "\n",
    "`q = Queue()` creates a queue that starts out empty, table below shows the results of a sequence of queue operations.\n",
    "\n",
    "\n",
    "|   Queue Operation   |    Queue Contents    | Return Value |\n",
    "| :-----------------: | :------------------: | :----------: |\n",
    "|    `pq.is_empty()`    |         `[]`         |    `True`    |\n",
    "|   `pq.enqueue(4)`    |        `[4]`         |              |\n",
    "| `pq.enqueue('dog')`  |     `['dog',4]`      |              |\n",
    "| `pq.enqueue('True')` |   `[True,'dog',4]`   |              |\n",
    "|     `pq.size()`      |   `[True,'dog',4]`   |     `3`      |\n",
    "|    `pq.is_empty()`    |   `[True,'dog',4]`   |   `False`    |\n",
    "|  `pq.enqueue(8.4)`   | `[8.4,True,'dog',4]` |              |\n",
    "|    `pq.dequeue()`    | `[8.4,True],'dog']`  |     `4`      |\n",
    "|    `pq.dequeue()`    |     `[8.4,True]`     |   `'dog'`    |\n",
    "|     `pq.size()`      |     `[8.4,True]`     |     `2`      |\n",
    "\n",
    "## Implementing a Queue in Python\n",
    "\n",
    "An abstract data type (ADT) when given a physical implementation then we refer to the implementation as a data structure.\n",
    "\n",
    "In any object-oriented programming language, the implementation of choice for an abstract data type such as a **Queue** is the creation of a new class. The queue operations are implemented as methods. Further, to implement a queue, which is a collection of elements, it makes sense to utilize the primitive collections provided. \n",
    "\n",
    "Python provides `List` an ordered collection mechanism and a set of methods, rear is at position 0 in the list. This allows us to use the insert function on lists to add new elements to the **rear** of the queue. The pop operation can be used to remove the **front** element (the last element of the list). Recall that this also means that enqueue will be O(n) and dequeue will be O(1).\n",
    "\n",
    "`pq = PriorityQueue()` creates a queue that starts out empty, table below shows the results of a sequence of queue operations.\n",
    "\n",
    "\n",
    "|   Queue Operation   |    Queue Contents    | Return Value |\n",
    "| :-----------------: | :------------------: | :----------: |\n",
    "|    `pq.is_empty()`    |         `[]`         |    `True`    |\n",
    "|   `pq.enqueue(4)`    |        `[4]`         |              |\n",
    "| `pq.enqueue('dog')`  |     `['dog',4]`      |              |\n",
    "| `pq.enqueue('True')` |   `[True,'dog',4]`   |              |\n",
    "|     `pq.size()`      |   `[True,'dog',4]`   |     `3`      |\n",
    "|    `pq.is_empty()`    |   `[True,'dog',4]`   |   `False`    |\n",
    "|  `pq.enqueue(8.4)`   | `[8.4,True,'dog',4]` |              |\n",
    "|    `pq.dequeue()`    | `[8.4,True],'dog']`  |     `4`      |\n",
    "|    `pq.dequeue()`    |     `[8.4,True]`     |   `'dog'`    |\n",
    "|     `pq.size()`      |     `[8.4,True]`     |     `2`      |\n",
    "\n",
    "## Implementing a Queue in Python\n",
    "\n",
    "An abstract data type (ADT) when given a physical implementation then we refer to the implementation as a data structure.\n",
    "\n",
    "In any object-oriented programming language, the implementation of choice for an abstract data type such as a **Queue** is the creation of a new class. The queue operations are implemented as methods. Further, to implement a queue, which is a collection of elements, it makes sense to utilize the primitive collections provided. \n",
    "\n",
    "Python provides `List` an ordered collection mechanism and a set of methods, rear is at position 0 in the list. This allows us to use the insert function on lists to add new elements to the **rear** of the queue. The pop operation can be used to remove the **front** element (the last element of the list). Recall that this also means that enqueue will be O(n) and dequeue will be O(1)."
   ]
  },
  {
   "cell_type": "code",
   "execution_count": 1,
   "metadata": {},
   "outputs": [],
   "source": [
    "class PriorityQueue:\n",
    "    \n",
    "    def __init__(self):\n",
    "        self.items = []\n",
    "\n",
    "    def is_empty(self):\n",
    "        return self.items == []\n",
    "\n",
    "    def enqueue(self, item):\n",
    "        self.items.insert(0,item)\n",
    "\n",
    "    def dequeue(self):\n",
    "        return self.items.pop()\n",
    "\n",
    "    def size(self):\n",
    "        return len(self.items)"
   ]
  },
  {
   "cell_type": "code",
   "execution_count": 2,
   "metadata": {},
   "outputs": [
    {
     "name": "stdout",
     "output_type": "stream",
     "text": [
      "True\n",
      "3\n",
      "False\n",
      "4\n",
      "dog\n",
      "2\n"
     ]
    }
   ],
   "source": [
    "# Create a new queue\n",
    "pq = PriorityQueue()\n",
    "\n",
    "# Check if the queue is empty\n",
    "print(pq.is_empty())\n",
    "\n",
    "# Enqueue 4 at rear of queue\n",
    "pq.enqueue(4)\n",
    "\n",
    "# Enqueue \"dog\" at rear of queue\n",
    "pq.enqueue('dog')\n",
    "\n",
    "# Enqueue \"True\" at rear of queue\n",
    "pq.enqueue(True)\n",
    "\n",
    "# Give the size of the queue\n",
    "print(pq.size())\n",
    "\n",
    "# Check if the queue is empty\n",
    "print(pq.is_empty())\n",
    "\n",
    "# Enqueue 8.4 at rear of queue\n",
    "pq.enqueue(8.4)\n",
    "\n",
    "# Dequeue the rear element from the queue and return it\n",
    "print(pq.dequeue())\n",
    "\n",
    "# Dequeue the rear element from the queue and return it\n",
    "print(pq.dequeue())\n",
    "\n",
    "# Give the size of the queue\n",
    "print(pq.size())"
   ]
  },
  {
   "cell_type": "markdown",
   "metadata": {},
   "source": [
    "## Practical usage in python\n",
    "\n",
    "`heapq` module provides an implementation of the heap queue algorithm, also known as the priority queue algorithm.\n",
    "\n",
    "Heaps are arrays for which a[k] <= a[2*k+1] and a[k] <= a[2*k+2] for all k, counting elements from 0. For the sake of comparison, non-existing elements are considered to be infinite. The interesting property of a heap is that a[0] is always its smallest element.\n",
    "\n",
    "By default `heapq` in standard liberary implements **Min-Heap** only. And you can find more information about the interface and api from [docs](https://docs.python.org/3/library/heapq.html)."
   ]
  },
  {
   "cell_type": "markdown",
   "metadata": {},
   "source": []
  }
 ],
 "metadata": {
  "interpreter": {
   "hash": "dae0f32b50a4d158a1a751f5eb363916827e94eab0ac36188e044907592a3788"
  },
  "kernelspec": {
   "display_name": "Python 3.10.0 64-bit ('.venv': venv)",
   "name": "python3"
  },
  "language_info": {
   "codemirror_mode": {
    "name": "ipython",
    "version": 3
   },
   "file_extension": ".py",
   "mimetype": "text/x-python",
   "name": "python",
   "nbconvert_exporter": "python",
   "pygments_lexer": "ipython3",
   "version": "3.10.0"
  }
 },
 "nbformat": 4,
 "nbformat_minor": 4
}
