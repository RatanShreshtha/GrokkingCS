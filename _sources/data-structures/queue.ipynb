{
 "cells": [
  {
   "cell_type": "markdown",
   "metadata": {},
   "source": [
    "# Queue\n",
    "\n",
    "A queue is an ordered collection of items where the addition of new items happens at one end, called the **“rear”**, and the removal of existing items occurs at the other end, commonly called the **“front”**. As an element enters the queue it starts at the rear and makes its way toward the front, waiting it is the next element to be removed.\n",
    "\n",
    "The most recently added item in the queue must wait at the end of the collection. The item that has been in the collection the longest is at the front. This ordering principle is sometimes called **FIFO(first-in, first-out)**. It is also known as “first-come first-served.”\n",
    "\n",
    "```{mermaid}\n",
    "flowchart BT;\n",
    "    subgraph id3 [ ]\n",
    "    direction LR\n",
    "        c1(Remove from front)\n",
    "    end\n",
    "\n",
    "    subgraph id2 [Queue]\n",
    "    direction LR\n",
    "        b1(3.14)\n",
    "        b2(True)\n",
    "        b3(dog)\n",
    "        b4(20)\n",
    "    end\n",
    "\n",
    "    subgraph id1 [ ]\n",
    "    direction LR\n",
    "        a1(Add to rear)\n",
    "    end\n",
    "\n",
    "    a1-->b1\n",
    "    c1-->b4\n",
    "\n",
    "    style id1 fill:#FFFFFF, stroke-width:0px\n",
    "    style id3 fill:#FFFFFF, stroke-width:0px\n",
    "```\n",
    "\n",
    "**Examples**\n",
    "- Cine for getting a movie ticket.\n",
    "- Check-out line at a grocery store, and we wait in the cafeteria line (so that we can pop the tray stack).\n",
    "- Operating systems use a number of different queues to control processes within a computer. The scheduling of what gets done next is typically based on a queuing algorithm that tries to execute programs as quickly as possible and serve as many users as it can.\n",
    "\n",
    "## Queue Abstract Data Type\n",
    "\n",
    "The queue abstract data type is defined by the following structure and operations. A queue is structured, as described above, as an ordered collection of items which are added at one end, called the **“rear”**, and removed from the other end, called the **“front”**. Queues maintain a **FIFO** ordering property.\n",
    "\n",
    "### Queue Operations\n",
    "- `Queue()` creates a new queue that is empty. It needs no parameters and returns an empty queue.\n",
    "- `enqueue(item)` adds a new item to the rear of the queue. It needs the item and returns nothing.\n",
    "- `dequeue()` removes the front item from the queue. It needs no parameters and returns the item. The queue is modified.\n",
    "- `is_empty()` tests to see whether the queue is empty. It needs no parameters and returns a boolean value.\n",
    "- `size()` returns the number of items in the queue. It needs no parameters and returns an integer.\n",
    "\n",
    "\n",
    "`q = Queue()` creates a queue that starts out empty, table below shows the results of a sequence of queue operations.\n",
    "\n",
    "\n",
    "|   Queue Operation   |    Queue Contents    | Return Value |\n",
    "| :-----------------: | :------------------: | :----------: |\n",
    "|    `q.is_empty()`    |         `[]`         |    `True`    |\n",
    "|   `q.enqueue(4)`    |        `[4]`         |              |\n",
    "| `q.enqueue('dog')`  |     `['dog',4]`      |              |\n",
    "| `q.enqueue('True')` |   `[True,'dog',4]`   |              |\n",
    "|     `q.size()`      |   `[True,'dog',4]`   |     `3`      |\n",
    "|    `q.is_empty()`    |   `[True,'dog',4]`   |   `False`    |\n",
    "|  `q.enqueue(8.4)`   | `[8.4,True,'dog',4]` |              |\n",
    "|    `q.dequeue()`    | `[8.4,True],'dog']`  |     `4`      |\n",
    "|    `q.dequeue()`    |     `[8.4,True]`     |   `'dog'`    |\n",
    "|     `q.size()`      |     `[8.4,True]`     |     `2`      |\n",
    "\n",
    "## Implementing a Queue in Python\n",
    "\n",
    "An abstract data type (ADT) when given a physical implementation then we refer to the implementation as a data structure.\n",
    "\n",
    "In any object-oriented programming language, the implementation of choice for an abstract data type such as a **Queue** is the creation of a new class. The queue operations are implemented as methods. Further, to implement a queue, which is a collection of elements, it makes sense to utilize the primitive collections provided. \n",
    "\n",
    "Python provides `List` an ordered collection mechanism and a set of methods, rear is at position 0 in the list. This allows us to use the insert function on lists to add new elements to the **rear** of the queue. The pop operation can be used to remove the **front** element (the last element of the list). Recall that this also means that enqueue will be O(n) and dequeue will be O(1)."
   ]
  },
  {
   "cell_type": "code",
   "execution_count": 1,
   "metadata": {},
   "outputs": [],
   "source": [
    "class Queue:\n",
    "    \n",
    "    def __init__(self):\n",
    "        self.items = []\n",
    "\n",
    "    def is_empty(self):\n",
    "        return self.items == []\n",
    "\n",
    "    def enqueue(self, item):\n",
    "        self.items.insert(0,item)\n",
    "\n",
    "    def dequeue(self):\n",
    "        return self.items.pop()\n",
    "\n",
    "    def size(self):\n",
    "        return len(self.items)"
   ]
  },
  {
   "cell_type": "code",
   "execution_count": 2,
   "metadata": {},
   "outputs": [
    {
     "name": "stdout",
     "output_type": "stream",
     "text": [
      "True\n",
      "3\n",
      "False\n",
      "4\n",
      "dog\n",
      "2\n"
     ]
    }
   ],
   "source": [
    "# Create a new queue\n",
    "q = Queue()\n",
    "\n",
    "# Check if the queue is empty\n",
    "print(q.is_empty())\n",
    "\n",
    "# Enqueue 4 at rear of queue\n",
    "q.enqueue(4)\n",
    "\n",
    "# Enqueue \"dog\" at rear of queue\n",
    "q.enqueue('dog')\n",
    "\n",
    "# Enqueue \"True\" at rear of queue\n",
    "q.enqueue(True)\n",
    "\n",
    "# Give the size of the queue\n",
    "print(q.size())\n",
    "\n",
    "# Check if the queue is empty\n",
    "print(q.is_empty())\n",
    "\n",
    "# Enqueue 8.4 at rear of queue\n",
    "q.enqueue(8.4)\n",
    "\n",
    "# Dequeue the rear element from the queue and return it\n",
    "print(q.dequeue())\n",
    "\n",
    "# Dequeue the rear element from the queue and return it\n",
    "print(q.dequeue())\n",
    "\n",
    "# Give the size of the queue\n",
    "print(q.size())"
   ]
  },
  {
   "cell_type": "markdown",
   "metadata": {},
   "source": [
    "## Practice Problem"
   ]
  },
  {
   "cell_type": "markdown",
   "metadata": {},
   "source": [
    "### Write a function `hot_potato(names, num)` that simulates the game of Hot Potato."
   ]
  },
  {
   "cell_type": "code",
   "execution_count": 3,
   "metadata": {},
   "outputs": [
    {
     "name": "stdout",
     "output_type": "stream",
     "text": [
      "Jane\n"
     ]
    }
   ],
   "source": [
    "def hot_potato(namelist, num):\n",
    "    simqueue = Queue()\n",
    "    for name in namelist:\n",
    "        simqueue.enqueue(name)\n",
    "\n",
    "    while simqueue.size() > 1:\n",
    "        for i in range(num):\n",
    "            simqueue.enqueue(simqueue.dequeue())\n",
    "\n",
    "        simqueue.dequeue()\n",
    "\n",
    "    return simqueue.dequeue()\n",
    "\n",
    "print(hot_potato([\"Bill\",\"David\",\"Susan\",\"Jane\",\"Kent\",\"Brad\"], 10))\n"
   ]
  },
  {
   "cell_type": "markdown",
   "metadata": {},
   "source": [
    "### Simulation: Printing Tasks\n",
    "\n",
    "On any average day about 10 students are working in the lab at any given hour. These students typically print up to twice during that time, and the length of these tasks ranges from 1 to 20 pages. The printer in the lab is older, capable of processing 10 pages per minute of draft quality. The printer could be switched to give better quality, but then it would produce only five pages per minute. The slower printing speed could make students wait too long. What page rate should be used?"
   ]
  }
 ],
 "metadata": {
  "interpreter": {
   "hash": "dae0f32b50a4d158a1a751f5eb363916827e94eab0ac36188e044907592a3788"
  },
  "kernelspec": {
   "display_name": "Python 3.10.0 64-bit ('.venv': venv)",
   "name": "python3"
  },
  "language_info": {
   "codemirror_mode": {
    "name": "ipython",
    "version": 3
   },
   "file_extension": ".py",
   "mimetype": "text/x-python",
   "name": "python",
   "nbconvert_exporter": "python",
   "pygments_lexer": "ipython3",
   "version": "3.10.0"
  }
 },
 "nbformat": 4,
 "nbformat_minor": 4
}
