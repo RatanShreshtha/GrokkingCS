{
 "cells": [
  {
   "cell_type": "markdown",
   "metadata": {},
   "source": [
    "\n",
    "- Algorithms: a step-by-step list of instructions for solving any instance of the problem that might arise. Algorithms are finite processes that if followed will solve the problem. Algorithms are solutions.\n",
    "\n",
    "- Programming: the process of taking an algorithm and encoding it into a notation, a programming language, so that it can be executed by a computer. Although many programming languages and many different types of computers exist, the important first step is the need to have the solution. Without an algorithm there can be no program."
   ]
  },
  {
   "cell_type": "markdown",
   "metadata": {},
   "source": [
    "**At a minimum, algorithms require constructs that perform sequential processing, selection for decision-making, and iteration for repetitive control. As long as the language provides these basic statements, it can be used for algorithm representation.**\n",
    "\n",
    "All data items in the computer are represented as strings of binary digits. In order to give these strings meaning, we need to have data types. Data types provide an interpretation for this binary data so that we can think about the data in terms that make sense with respect to the problem being solved. These low-level, built-in data types (sometimes called the primitive data types) provide the building blocks for algorithm development."
   ]
  },
  {
   "cell_type": "markdown",
   "metadata": {},
   "source": [
    "\n",
    "## Why Study Algorithms?\n",
    "\n",
    "Algorithms are often quite different from one another. One algorithm may use many fewer resources than another. One algorithm might take 10 times as long to return the result as the other. We would like to have some way to compare these two solutions. Even though they both work, one is perhaps “better” than the other. We might suggest that one is more efficient or that one simply works faster or uses less memory. As we study algorithms, we can learn analysis techniques that allow us to compare and contrast solutions based solely on their own characteristics, not the characteristics of the program or computer used to implement them.\n",
    "\n",
    "In the worst case scenario, we may have a problem that is intractable, meaning that there is no algorithm that can solve the problem in a realistic amount of time. It is important to be able to distinguish between those problems that have solutions, those that do not, and those where solutions exist but require too much time or other resources to work reasonably.\n",
    "\n",
    "There will often be trade-offs that we will need to identify and decide upon. As computer scientists, in addition to our ability to solve problems, we will also need to know and understand solution evaluation techniques. In the end, there are often many ways to solve a problem. Finding a solution and then deciding whether it is a good one are tasks that we will do over and over again.\n"
   ]
  },
  {
   "cell_type": "markdown",
   "metadata": {},
   "source": [
    "## Questions\n",
    "\n",
    "- Implement the simple methods getNum and getDen that will return the numerator and denominator of a fraction.\n",
    "\n",
    "- In many ways it would be better if all fractions were maintained in lowest terms right from the start. Modify the constructor for the Fraction class so that GCD is used to reduce fractions immediately. Notice that this means the __add__ function no longer needs to reduce. Make the necessary modifications.\n",
    "\n",
    "- Implement the remaining simple arithmetic operators (__sub__, __mul__, and __truediv__).\n",
    "\n",
    "- Implement the remaining relational operators (__gt__, __ge__, __lt__, __le__, and __ne__)\n",
    "\n",
    "- Modify the constructor for the fraction class so that it checks to make sure that the numerator and denominator are both integers. If either is not an integer the constructor should raise an exception.\n",
    "\n",
    "- In the definition of fractions we assumed that negative fractions have a negative numerator and a positive denominator. Using a negative denominator would cause some of the relational operators to give incorrect results. In general, this is an unnecessary constraint. Modify the constructor to allow the user to pass a negative denominator so that all of the operators continue to work properly.\n",
    "\n",
    "- Research the __radd__ method. How does it differ from __add__? When is it used? Implement __radd__.\n",
    "\n",
    "- Repeat the last question but this time consider the __iadd__ method.\n",
    "\n",
    "- Research the __repr__ method. How does it differ from __str__? When is it used? Implement __repr__.\n",
    "\n",
    "- Research other types of gates that exist (such as NAND, NOR, and XOR). Add them to the circuit hierarchy. How much additional coding did you need to do?\n",
    "\n",
    "- The most simple arithmetic circuit is known as the half-adder. Research the simple half-adder circuit. Implement this circuit.\n",
    "\n",
    "- Now extend that circuit and implement an 8 bit full-adder.\n",
    "\n",
    "- The circuit simulation shown in this chapter works in a backward direction. In other words, given a circuit, the output is produced by working back through the input values, which in turn cause other outputs to be queried. This continues until external input lines are found, at which point the user is asked for values. Modify the implementation so that the action is in the forward direction; upon receiving inputs the circuit produces an output.\n",
    "\n",
    "- Design a class to represent a playing card. Now design a class to represent a deck of cards. Using these two classes, implement a favorite card game.\n",
    "\n",
    "- Find a Sudoku puzzle in the local newspaper. Write a program to solve the puzzle.\n",
    "\n"
   ]
  }
 ],
 "metadata": {
  "language_info": {
   "codemirror_mode": {
    "name": "ipython",
    "version": 3
   },
   "file_extension": ".py",
   "mimetype": "text/x-python",
   "name": "python",
   "nbconvert_exporter": "python",
   "pygments_lexer": "ipython3",
   "version": 3
  },
  "orig_nbformat": 2
 },
 "nbformat": 4,
 "nbformat_minor": 2
}
