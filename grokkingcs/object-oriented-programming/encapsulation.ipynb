{
 "cells": [
  {
   "cell_type": "markdown",
   "metadata": {},
   "source": [
    "# Encapsulation\n",
    "\n",
    "Encapsulation is containing all important information inside an object, and only exposing selected information to the outside world. Attributes and behaviors are defined by code inside the class template. Encapsulation hides the internal software code implementation inside a class, and hides internal data of inside objects. Encapsulation requires defining some fields as private and some as public.\n",
    "\n",
    "- Private/ Internal interface – methods and properties, accessible from other methods of the same class.\n",
    "- Public / External Interface – methods and properties, accessible also from outside the class.\n",
    "\n",
    "Let’s use a car as a metaphor for encapsulation. The information the car shares with the outside world - through blinkers to indicate turns, are public interfaces. In contrast, the engine is hidden under the hood - it’s a private, internal interface. When you’re driving a car down the road, other drivers require information to make decisions, like whether you’re turning left or right. However, exposing internal, private data like the engine temperature, would just confuse other drivers.\n",
    "\n",
    "![encapsulation](./images/encapsulation.png)\n",
    "\n",
    "## Benefits of encapsulation:\n",
    "\n",
    "- Adds security: Only public methods and attributes are accessible from the outside\n",
    "- Protects developers from common mistakes: Only public fields & methods accessible, so developers don’t accidentally change something dangerous\n",
    "- Protects IP: Code is hidden in a class, only public methods are accessible by the outside developers\n",
    "- Supportable: Most code undergoes updates and improvements\n",
    "- Change internal code in class without alerting users: As long as the public attributes & methods stay the same, internal code can be updated without changing existing objects\n",
    "- Hides complexity: No one can see what’s behind the object’s curtain!\n",
    "\n"
   ]
  }
 ],
 "metadata": {
  "interpreter": {
   "hash": "dae0f32b50a4d158a1a751f5eb363916827e94eab0ac36188e044907592a3788"
  },
  "kernelspec": {
   "display_name": "Python 3.10.0 64-bit ('.venv': venv)",
   "name": "python3"
  },
  "language_info": {
   "codemirror_mode": {
    "name": "ipython",
    "version": 3
   },
   "file_extension": ".py",
   "mimetype": "text/x-python",
   "name": "python",
   "nbconvert_exporter": "python",
   "pygments_lexer": "ipython3",
   "version": "3.10.0"
  },
  "orig_nbformat": 2
 },
 "nbformat": 4,
 "nbformat_minor": 2
}
